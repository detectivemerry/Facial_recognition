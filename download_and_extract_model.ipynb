{
 "cells": [
  {
   "cell_type": "code",
   "execution_count": 1,
   "metadata": {},
   "outputs": [],
   "source": [
    "import argparse\n",
    "import logging\n",
    "import os\n",
    "import requests\n",
    "import zipfile"
   ]
  },
  {
   "cell_type": "code",
   "execution_count": 2,
   "metadata": {},
   "outputs": [],
   "source": [
    "model_dict = {\n",
    "    '20170511-185253': '0B5MzpY9kBtDVOTVnU3NIaUdySFE'\n",
    "}\n",
    "\n",
    "\n",
    "def download_and_extract_model(model_name, data_dir):\n",
    "    if not os.path.exists(data_dir):\n",
    "        os.makedirs(data_dir)\n",
    "\n",
    "    file_id = model_dict[model_name]\n",
    "    destination = os.path.join(data_dir, model_name + '.zip')\n",
    "    if not os.path.exists(destination):\n",
    "        print('Downloading model to %s' % destination)\n",
    "        download_file_from_google_drive(file_id, destination)\n",
    "        with zipfile.ZipFile(destination, 'r') as zip_ref:\n",
    "            print('Extracting model to %s' % data_dir)\n",
    "            zip_ref.extractall(data_dir)\n",
    "\n",
    "\n",
    "def download_file_from_google_drive(file_id, destination):\n",
    "    URL = \"https://drive.google.com/uc?export=download\"\n",
    "\n",
    "    session = requests.Session()\n",
    "\n",
    "    response = session.get(URL, params={'id': file_id}, stream=True)\n",
    "    token = get_confirm_token(response)\n",
    "\n",
    "    if token:\n",
    "        params = {'id': file_id, 'confirm': token}\n",
    "        response = session.get(URL, params=params, stream=True)\n",
    "\n",
    "    save_response_content(response, destination)\n",
    "\n",
    "\n",
    "def get_confirm_token(response):\n",
    "    for key, value in response.cookies.items():\n",
    "        if key.startswith('download_warning'):\n",
    "            return value\n",
    "\n",
    "    return None\n",
    "\n",
    "\n",
    "def save_response_content(response, destination):\n",
    "    CHUNK_SIZE = 32768\n",
    "\n",
    "    with open(destination, \"wb\") as f:\n",
    "        for chunk in response.iter_content(CHUNK_SIZE):\n",
    "            if chunk:  # filter out keep-alive new chunks\n",
    "                f.write(chunk)"
   ]
  },
  {
   "cell_type": "code",
   "execution_count": 3,
   "metadata": {},
   "outputs": [
    {
     "name": "stderr",
     "output_type": "stream",
     "text": [
      "DEBUG:urllib3.connectionpool:Starting new HTTPS connection (1): drive.google.com:443\n"
     ]
    },
    {
     "name": "stdout",
     "output_type": "stream",
     "text": [
      "Downloading model to etc/20170511-185253.zip\n"
     ]
    },
    {
     "name": "stderr",
     "output_type": "stream",
     "text": [
      "DEBUG:urllib3.connectionpool:https://drive.google.com:443 \"GET /uc?export=download&id=0B5MzpY9kBtDVOTVnU3NIaUdySFE HTTP/1.1\" 200 None\n",
      "DEBUG:urllib3.connectionpool:Starting new HTTPS connection (2): drive.google.com:443\n",
      "DEBUG:urllib3.connectionpool:https://drive.google.com:443 \"GET /uc?export=download&id=0B5MzpY9kBtDVOTVnU3NIaUdySFE&confirm=LIlb HTTP/1.1\" 302 None\n",
      "DEBUG:urllib3.connectionpool:Starting new HTTPS connection (1): doc-0k-as-docs.googleusercontent.com:443\n",
      "DEBUG:urllib3.connectionpool:https://doc-0k-as-docs.googleusercontent.com:443 \"GET /docs/securesc/dqliq3folau7nvqpj0q1bmamlglk38i0/oaipj63mvesrrfk5unbamc70b3g6359l/1633365225000/18056234690049221457/09356801339940943632Z/0B5MzpY9kBtDVOTVnU3NIaUdySFE?e=download HTTP/1.1\" 302 0\n",
      "DEBUG:urllib3.connectionpool:Starting new HTTPS connection (1): docs.google.com:443\n",
      "DEBUG:urllib3.connectionpool:https://docs.google.com:443 \"GET /nonceSigner?nonce=kjkaaf6d1d7qs&continue=https://doc-0k-as-docs.googleusercontent.com/docs/securesc/dqliq3folau7nvqpj0q1bmamlglk38i0/oaipj63mvesrrfk5unbamc70b3g6359l/1633365225000/18056234690049221457/09356801339940943632Z/0B5MzpY9kBtDVOTVnU3NIaUdySFE?e%3Ddownload&hash=jfs6uevtvnlsv4kdba1ar36vgbcflptl HTTP/1.1\" 302 0\n",
      "DEBUG:urllib3.connectionpool:https://doc-0k-as-docs.googleusercontent.com:443 \"GET /docs/securesc/dqliq3folau7nvqpj0q1bmamlglk38i0/oaipj63mvesrrfk5unbamc70b3g6359l/1633365225000/18056234690049221457/09356801339940943632Z/0B5MzpY9kBtDVOTVnU3NIaUdySFE?e=download&nonce=kjkaaf6d1d7qs&user=09356801339940943632Z&hash=fb1uc0vie511b3jpte8dk6nd4jegkcbs HTTP/1.1\" 200 None\n"
     ]
    },
    {
     "name": "stdout",
     "output_type": "stream",
     "text": [
      "Extracting model to etc/\n"
     ]
    }
   ],
   "source": [
    "logging.basicConfig(level=logging.DEBUG)\n",
    "model_dir = 'etc/'\n",
    "download_and_extract_model('20170511-185253', model_dir)"
   ]
  }
 ],
 "metadata": {
  "kernelspec": {
   "display_name": "Python 3",
   "language": "python",
   "name": "python3"
  },
  "language_info": {
   "codemirror_mode": {
    "name": "ipython",
    "version": 3
   },
   "file_extension": ".py",
   "mimetype": "text/x-python",
   "name": "python",
   "nbconvert_exporter": "python",
   "pygments_lexer": "ipython3",
   "version": "3.6.9"
  }
 },
 "nbformat": 4,
 "nbformat_minor": 2
}
